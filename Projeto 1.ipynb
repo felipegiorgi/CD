{
 "cells": [
  {
   "cell_type": "markdown",
   "metadata": {},
   "source": [
    "___\n",
    "# PROJETO 1"
   ]
  },
  {
   "cell_type": "markdown",
   "metadata": {},
   "source": [
    "## <font color='red'>Felipe Giorgi Vaz Guimarães</font>\n",
    "___"
   ]
  },
  {
   "cell_type": "markdown",
   "metadata": {},
   "source": [
    "## <font color='blue'>A DIFERENÇA SOCIAL ENTRE APOSENTADOS NEGROS E BRANCOS</font>"
   ]
  },
  {
   "cell_type": "markdown",
   "metadata": {},
   "source": [
    "## Introdução\n",
    "\n",
    "É comum ouvir por ai que a diferença social entre raças no Brasil é muito grande, dizem que grande maioria dos negros no Brasil vivem em piores condições que brancos. Com o fim de explorar ainda mais essas diferenças, fiz uma pesquisa comparatoria das populações de aposentados brancos e aposentados negros. Esta pesquisa tem como objetivo deixar claro estas diferenças com dados e números da Pnad 2014. A pesquisa trara uma série de tabelas, números e gráficos que deixam claro estas diferenças que existem desde o periodo colonial e continuam até os dias de hoje."
   ]
  },
  {
   "cell_type": "markdown",
   "metadata": {},
   "source": [
    "___\n",
    "## Análise e Resultados"
   ]
  },
  {
   "cell_type": "code",
   "execution_count": 138,
   "metadata": {
    "collapsed": true
   },
   "outputs": [],
   "source": [
    "%matplotlib inline\n",
    "import pandas as pd\n",
    "import matplotlib.pyplot as plt\n",
    "import numpy as np\n",
    "from numpy import arange\n",
    "import math\n",
    "import os"
   ]
  },
  {
   "cell_type": "code",
   "execution_count": 139,
   "metadata": {
    "collapsed": false
   },
   "outputs": [
    {
     "name": "stdout",
     "output_type": "stream",
     "text": [
      "Esperamos trabalhar no diretório\n",
      "C:\\Users\\Felipe Giorgi\\Desktop\\2º Semestre\\Ciência dos Dados\\Projeto 1\n"
     ]
    }
   ],
   "source": [
    "print('Esperamos trabalhar no diretório')\n",
    "print(os.getcwd())"
   ]
  },
  {
   "cell_type": "code",
   "execution_count": 140,
   "metadata": {
    "collapsed": false
   },
   "outputs": [],
   "source": [
    "#Leitura da base já em formato de DataFrame e extensão .csv\n",
    "pnad2014 = pd.read_csv('PES2014.csv', sep=',')"
   ]
  },
  {
   "cell_type": "code",
   "execution_count": 141,
   "metadata": {
    "collapsed": false
   },
   "outputs": [],
   "source": [
    "#Criei um DataFrame com dados só de aposentados.\n",
    "aposentados = pd.DataFrame(pnad2014[pnad2014.V9122 == 2])"
   ]
  },
  {
   "cell_type": "code",
   "execution_count": 142,
   "metadata": {
    "collapsed": true
   },
   "outputs": [],
   "source": [
    "#Exclui da coluna de V4750(Renda) os indivuos que tinham como renda NaN e aqueles que tinham como renda 999 999 999 999\n",
    "aposentados.V4750 = aposentados.V4750[(aposentados.V4750 != 999999999999) & (~aposentados.V4750.isnull())]"
   ]
  },
  {
   "cell_type": "code",
   "execution_count": 143,
   "metadata": {
    "collapsed": false
   },
   "outputs": [],
   "source": [
    "#Mostrei que a categoria V0404(Raça) é qualitativa\n",
    "aposentados.V0404 = aposentados.V0404.astype('category')"
   ]
  },
  {
   "cell_type": "code",
   "execution_count": 144,
   "metadata": {
    "collapsed": false
   },
   "outputs": [],
   "source": [
    "#Alterei o nome das variáveis da coluna V0404\n",
    "aposentados.V0404.cat.categories = ('Indigena', 'Branco', 'Negro','Amarelo','Pardo')"
   ]
  },
  {
   "cell_type": "code",
   "execution_count": 145,
   "metadata": {
    "collapsed": true
   },
   "outputs": [],
   "source": [
    "#Mostrei que a categoria V0601(Alfabetização) é qualitativa\n",
    "aposentados.V0601 = aposentados.V0601.astype('category')"
   ]
  },
  {
   "cell_type": "code",
   "execution_count": 146,
   "metadata": {
    "collapsed": true
   },
   "outputs": [],
   "source": [
    "#Alterei o nome das variáveis da coluna V0601\n",
    "aposentados.V0601.cat.categories = ('Alfabetizado', 'Analfabeto')"
   ]
  },
  {
   "cell_type": "code",
   "execution_count": 147,
   "metadata": {
    "collapsed": true
   },
   "outputs": [],
   "source": [
    "#Mostrei que a categoria V0606 é qualitativa\n",
    "aposentados.V0606 = aposentados.V0606.astype('category')"
   ]
  },
  {
   "cell_type": "code",
   "execution_count": 148,
   "metadata": {
    "collapsed": false
   },
   "outputs": [],
   "source": [
    "#Alterei o nome das variáveis da coluna V0606\n",
    "aposentados.V0606.cat.categories = ('Sim','Não')"
   ]
  },
  {
   "cell_type": "code",
   "execution_count": 149,
   "metadata": {
    "collapsed": false
   },
   "outputs": [],
   "source": [
    "#Mostrei que a categoria V6007(Curso mais alto que frequentou) é qualitativa\n",
    "aposentados.V6007 = aposentados.V6007.astype('category')"
   ]
  },
  {
   "cell_type": "code",
   "execution_count": 150,
   "metadata": {
    "collapsed": false
   },
   "outputs": [],
   "source": [
    "#Alterei o nome das variáveis da coluna V6007\n",
    "aposentados.V6007.cat.categories = ('Primario','Médio 1º ciclo','Médio 2º ciclo','Regular do ensino fundamental','Regular do ensino médio','Supletivo do ensino fundamental','Supletivo de ensino médio','Superior de graduação','Mestrado ou doutorado','Alfabetização de jovens e adultos','Creche','Classe de alfabetização - CA','Jardim de infância')"
   ]
  },
  {
   "cell_type": "code",
   "execution_count": 151,
   "metadata": {
    "collapsed": false,
    "scrolled": true
   },
   "outputs": [
    {
     "data": {
      "text/html": [
       "<div>\n",
       "<table border=\"1\" class=\"dataframe\">\n",
       "  <thead>\n",
       "    <tr style=\"text-align: right;\">\n",
       "      <th></th>\n",
       "      <th>Unnamed: 0</th>\n",
       "      <th>V0101</th>\n",
       "      <th>UF</th>\n",
       "      <th>V0102</th>\n",
       "      <th>V0103</th>\n",
       "      <th>V0301</th>\n",
       "      <th>V0302</th>\n",
       "      <th>V3031</th>\n",
       "      <th>V3032</th>\n",
       "      <th>V3033</th>\n",
       "      <th>...</th>\n",
       "      <th>V4741</th>\n",
       "      <th>V4742</th>\n",
       "      <th>V4743</th>\n",
       "      <th>V4745</th>\n",
       "      <th>V4746</th>\n",
       "      <th>V4747</th>\n",
       "      <th>V4748</th>\n",
       "      <th>V4749</th>\n",
       "      <th>V4750</th>\n",
       "      <th>V9993</th>\n",
       "    </tr>\n",
       "  </thead>\n",
       "  <tbody>\n",
       "    <tr>\n",
       "      <th>5</th>\n",
       "      <td>5</td>\n",
       "      <td>2014</td>\n",
       "      <td>11</td>\n",
       "      <td>15</td>\n",
       "      <td>3</td>\n",
       "      <td>1</td>\n",
       "      <td>4</td>\n",
       "      <td>5</td>\n",
       "      <td>1</td>\n",
       "      <td>1937</td>\n",
       "      <td>...</td>\n",
       "      <td>1</td>\n",
       "      <td>724</td>\n",
       "      <td>3</td>\n",
       "      <td>2</td>\n",
       "      <td>2</td>\n",
       "      <td>NaN</td>\n",
       "      <td>NaN</td>\n",
       "      <td>2</td>\n",
       "      <td>724</td>\n",
       "      <td>20160623</td>\n",
       "    </tr>\n",
       "    <tr>\n",
       "      <th>11</th>\n",
       "      <td>11</td>\n",
       "      <td>2014</td>\n",
       "      <td>11</td>\n",
       "      <td>15</td>\n",
       "      <td>5</td>\n",
       "      <td>1</td>\n",
       "      <td>4</td>\n",
       "      <td>13</td>\n",
       "      <td>7</td>\n",
       "      <td>1946</td>\n",
       "      <td>...</td>\n",
       "      <td>4</td>\n",
       "      <td>855</td>\n",
       "      <td>4</td>\n",
       "      <td>2</td>\n",
       "      <td>2</td>\n",
       "      <td>NaN</td>\n",
       "      <td>NaN</td>\n",
       "      <td>2</td>\n",
       "      <td>855</td>\n",
       "      <td>20160623</td>\n",
       "    </tr>\n",
       "    <tr>\n",
       "      <th>25</th>\n",
       "      <td>25</td>\n",
       "      <td>2014</td>\n",
       "      <td>11</td>\n",
       "      <td>15</td>\n",
       "      <td>10</td>\n",
       "      <td>1</td>\n",
       "      <td>2</td>\n",
       "      <td>15</td>\n",
       "      <td>10</td>\n",
       "      <td>1948</td>\n",
       "      <td>...</td>\n",
       "      <td>2</td>\n",
       "      <td>2362</td>\n",
       "      <td>6</td>\n",
       "      <td>2</td>\n",
       "      <td>1</td>\n",
       "      <td>1</td>\n",
       "      <td>1</td>\n",
       "      <td>1</td>\n",
       "      <td>2362</td>\n",
       "      <td>20160623</td>\n",
       "    </tr>\n",
       "    <tr>\n",
       "      <th>26</th>\n",
       "      <td>26</td>\n",
       "      <td>2014</td>\n",
       "      <td>11</td>\n",
       "      <td>15</td>\n",
       "      <td>10</td>\n",
       "      <td>2</td>\n",
       "      <td>4</td>\n",
       "      <td>24</td>\n",
       "      <td>6</td>\n",
       "      <td>1952</td>\n",
       "      <td>...</td>\n",
       "      <td>2</td>\n",
       "      <td>2362</td>\n",
       "      <td>6</td>\n",
       "      <td>5</td>\n",
       "      <td>2</td>\n",
       "      <td>NaN</td>\n",
       "      <td>NaN</td>\n",
       "      <td>2</td>\n",
       "      <td>2362</td>\n",
       "      <td>20160623</td>\n",
       "    </tr>\n",
       "    <tr>\n",
       "      <th>51</th>\n",
       "      <td>51</td>\n",
       "      <td>2014</td>\n",
       "      <td>11</td>\n",
       "      <td>23</td>\n",
       "      <td>1</td>\n",
       "      <td>5</td>\n",
       "      <td>2</td>\n",
       "      <td>25</td>\n",
       "      <td>1</td>\n",
       "      <td>1924</td>\n",
       "      <td>...</td>\n",
       "      <td>5</td>\n",
       "      <td>444</td>\n",
       "      <td>3</td>\n",
       "      <td>1</td>\n",
       "      <td>2</td>\n",
       "      <td>NaN</td>\n",
       "      <td>NaN</td>\n",
       "      <td>2</td>\n",
       "      <td>444</td>\n",
       "      <td>20160623</td>\n",
       "    </tr>\n",
       "  </tbody>\n",
       "</table>\n",
       "<p>5 rows × 342 columns</p>\n",
       "</div>"
      ],
      "text/plain": [
       "    Unnamed: 0  V0101  UF     V0102  V0103  V0301  V0302  V3031  V3032  V3033  \\\n",
       "5            5   2014     11     15      3      1      4      5      1   1937   \n",
       "11          11   2014     11     15      5      1      4     13      7   1946   \n",
       "25          25   2014     11     15     10      1      2     15     10   1948   \n",
       "26          26   2014     11     15     10      2      4     24      6   1952   \n",
       "51          51   2014     11     23      1      5      2     25      1   1924   \n",
       "\n",
       "      ...     V4741  V4742  V4743  V4745 V4746  V4747  V4748  V4749  V4750  \\\n",
       "5     ...         1    724      3      2     2    NaN    NaN      2    724   \n",
       "11    ...         4    855      4      2     2    NaN    NaN      2    855   \n",
       "25    ...         2   2362      6      2     1      1      1      1   2362   \n",
       "26    ...         2   2362      6      5     2    NaN    NaN      2   2362   \n",
       "51    ...         5    444      3      1     2    NaN    NaN      2    444   \n",
       "\n",
       "       V9993  \n",
       "5   20160623  \n",
       "11  20160623  \n",
       "25  20160623  \n",
       "26  20160623  \n",
       "51  20160623  \n",
       "\n",
       "[5 rows x 342 columns]"
      ]
     },
     "execution_count": 151,
     "metadata": {},
     "output_type": "execute_result"
    }
   ],
   "source": [
    "aposentados.head()"
   ]
  },
  {
   "cell_type": "code",
   "execution_count": 152,
   "metadata": {
    "collapsed": false
   },
   "outputs": [],
   "source": [
    "#n indica o número de aposentados\n",
    "n=aposentados.shape[0]"
   ]
  },
  {
   "cell_type": "code",
   "execution_count": 153,
   "metadata": {
    "collapsed": false
   },
   "outputs": [],
   "source": [
    "#Criei um DataFrame com dados só de aposentados negros\n",
    "AposentadosNegros = pd.DataFrame(aposentados[aposentados.V0404 == 'Negro'])"
   ]
  },
  {
   "cell_type": "code",
   "execution_count": 154,
   "metadata": {
    "collapsed": false
   },
   "outputs": [
    {
     "data": {
      "text/html": [
       "<div>\n",
       "<table border=\"1\" class=\"dataframe\">\n",
       "  <thead>\n",
       "    <tr style=\"text-align: right;\">\n",
       "      <th></th>\n",
       "      <th>Unnamed: 0</th>\n",
       "      <th>V0101</th>\n",
       "      <th>UF</th>\n",
       "      <th>V0102</th>\n",
       "      <th>V0103</th>\n",
       "      <th>V0301</th>\n",
       "      <th>V0302</th>\n",
       "      <th>V3031</th>\n",
       "      <th>V3032</th>\n",
       "      <th>V3033</th>\n",
       "      <th>...</th>\n",
       "      <th>V4741</th>\n",
       "      <th>V4742</th>\n",
       "      <th>V4743</th>\n",
       "      <th>V4745</th>\n",
       "      <th>V4746</th>\n",
       "      <th>V4747</th>\n",
       "      <th>V4748</th>\n",
       "      <th>V4749</th>\n",
       "      <th>V4750</th>\n",
       "      <th>V9993</th>\n",
       "    </tr>\n",
       "  </thead>\n",
       "  <tbody>\n",
       "    <tr>\n",
       "      <th>51</th>\n",
       "      <td>51</td>\n",
       "      <td>2014</td>\n",
       "      <td>11</td>\n",
       "      <td>23</td>\n",
       "      <td>1</td>\n",
       "      <td>5</td>\n",
       "      <td>2</td>\n",
       "      <td>25</td>\n",
       "      <td>1</td>\n",
       "      <td>1924</td>\n",
       "      <td>...</td>\n",
       "      <td>5</td>\n",
       "      <td>444</td>\n",
       "      <td>3</td>\n",
       "      <td>1</td>\n",
       "      <td>2</td>\n",
       "      <td>NaN</td>\n",
       "      <td>NaN</td>\n",
       "      <td>2</td>\n",
       "      <td>444</td>\n",
       "      <td>20160623</td>\n",
       "    </tr>\n",
       "    <tr>\n",
       "      <th>232</th>\n",
       "      <td>232</td>\n",
       "      <td>2014</td>\n",
       "      <td>11</td>\n",
       "      <td>58</td>\n",
       "      <td>10</td>\n",
       "      <td>2</td>\n",
       "      <td>2</td>\n",
       "      <td>8</td>\n",
       "      <td>8</td>\n",
       "      <td>1947</td>\n",
       "      <td>...</td>\n",
       "      <td>3</td>\n",
       "      <td>358</td>\n",
       "      <td>2</td>\n",
       "      <td>1</td>\n",
       "      <td>2</td>\n",
       "      <td>NaN</td>\n",
       "      <td>1</td>\n",
       "      <td>1</td>\n",
       "      <td>358</td>\n",
       "      <td>20160623</td>\n",
       "    </tr>\n",
       "    <tr>\n",
       "      <th>624</th>\n",
       "      <td>624</td>\n",
       "      <td>2014</td>\n",
       "      <td>11</td>\n",
       "      <td>147</td>\n",
       "      <td>7</td>\n",
       "      <td>2</td>\n",
       "      <td>4</td>\n",
       "      <td>16</td>\n",
       "      <td>10</td>\n",
       "      <td>1946</td>\n",
       "      <td>...</td>\n",
       "      <td>2</td>\n",
       "      <td>724</td>\n",
       "      <td>3</td>\n",
       "      <td>2</td>\n",
       "      <td>2</td>\n",
       "      <td>NaN</td>\n",
       "      <td>NaN</td>\n",
       "      <td>2</td>\n",
       "      <td>724</td>\n",
       "      <td>20160623</td>\n",
       "    </tr>\n",
       "    <tr>\n",
       "      <th>714</th>\n",
       "      <td>714</td>\n",
       "      <td>2014</td>\n",
       "      <td>11</td>\n",
       "      <td>171</td>\n",
       "      <td>15</td>\n",
       "      <td>1</td>\n",
       "      <td>4</td>\n",
       "      <td>8</td>\n",
       "      <td>1</td>\n",
       "      <td>1958</td>\n",
       "      <td>...</td>\n",
       "      <td>1</td>\n",
       "      <td>1448</td>\n",
       "      <td>4</td>\n",
       "      <td>1</td>\n",
       "      <td>2</td>\n",
       "      <td>NaN</td>\n",
       "      <td>NaN</td>\n",
       "      <td>2</td>\n",
       "      <td>1448</td>\n",
       "      <td>20160623</td>\n",
       "    </tr>\n",
       "    <tr>\n",
       "      <th>718</th>\n",
       "      <td>718</td>\n",
       "      <td>2014</td>\n",
       "      <td>11</td>\n",
       "      <td>180</td>\n",
       "      <td>1</td>\n",
       "      <td>1</td>\n",
       "      <td>2</td>\n",
       "      <td>29</td>\n",
       "      <td>1</td>\n",
       "      <td>1966</td>\n",
       "      <td>...</td>\n",
       "      <td>4</td>\n",
       "      <td>1062</td>\n",
       "      <td>4</td>\n",
       "      <td>7</td>\n",
       "      <td>1</td>\n",
       "      <td>2</td>\n",
       "      <td>2</td>\n",
       "      <td>1</td>\n",
       "      <td>1062</td>\n",
       "      <td>20160623</td>\n",
       "    </tr>\n",
       "  </tbody>\n",
       "</table>\n",
       "<p>5 rows × 342 columns</p>\n",
       "</div>"
      ],
      "text/plain": [
       "     Unnamed: 0  V0101  UF     V0102  V0103  V0301  V0302  V3031  V3032  \\\n",
       "51           51   2014     11     23      1      5      2     25      1   \n",
       "232         232   2014     11     58     10      2      2      8      8   \n",
       "624         624   2014     11    147      7      2      4     16     10   \n",
       "714         714   2014     11    171     15      1      4      8      1   \n",
       "718         718   2014     11    180      1      1      2     29      1   \n",
       "\n",
       "     V3033    ...     V4741  V4742  V4743  V4745 V4746  V4747  V4748  V4749  \\\n",
       "51    1924    ...         5    444      3      1     2    NaN    NaN      2   \n",
       "232   1947    ...         3    358      2      1     2    NaN      1      1   \n",
       "624   1946    ...         2    724      3      2     2    NaN    NaN      2   \n",
       "714   1958    ...         1   1448      4      1     2    NaN    NaN      2   \n",
       "718   1966    ...         4   1062      4      7     1      2      2      1   \n",
       "\n",
       "     V4750     V9993  \n",
       "51     444  20160623  \n",
       "232    358  20160623  \n",
       "624    724  20160623  \n",
       "714   1448  20160623  \n",
       "718   1062  20160623  \n",
       "\n",
       "[5 rows x 342 columns]"
      ]
     },
     "execution_count": 154,
     "metadata": {},
     "output_type": "execute_result"
    }
   ],
   "source": [
    "AposentadosNegros.head()"
   ]
  },
  {
   "cell_type": "code",
   "execution_count": 155,
   "metadata": {
    "collapsed": true
   },
   "outputs": [],
   "source": [
    "#an indica o número de aposentados negros\n",
    "an = AposentadosNegros.shape[0]"
   ]
  },
  {
   "cell_type": "code",
   "execution_count": 156,
   "metadata": {
    "collapsed": true
   },
   "outputs": [],
   "source": [
    "#Criei um DataFrame com dados só de aposentados brancos\n",
    "AposentadosBrancos = pd.DataFrame(aposentados[aposentados.V0404 == 'Branco'])"
   ]
  },
  {
   "cell_type": "code",
   "execution_count": 157,
   "metadata": {
    "collapsed": false
   },
   "outputs": [
    {
     "data": {
      "text/html": [
       "<div>\n",
       "<table border=\"1\" class=\"dataframe\">\n",
       "  <thead>\n",
       "    <tr style=\"text-align: right;\">\n",
       "      <th></th>\n",
       "      <th>Unnamed: 0</th>\n",
       "      <th>V0101</th>\n",
       "      <th>UF</th>\n",
       "      <th>V0102</th>\n",
       "      <th>V0103</th>\n",
       "      <th>V0301</th>\n",
       "      <th>V0302</th>\n",
       "      <th>V3031</th>\n",
       "      <th>V3032</th>\n",
       "      <th>V3033</th>\n",
       "      <th>...</th>\n",
       "      <th>V4741</th>\n",
       "      <th>V4742</th>\n",
       "      <th>V4743</th>\n",
       "      <th>V4745</th>\n",
       "      <th>V4746</th>\n",
       "      <th>V4747</th>\n",
       "      <th>V4748</th>\n",
       "      <th>V4749</th>\n",
       "      <th>V4750</th>\n",
       "      <th>V9993</th>\n",
       "    </tr>\n",
       "  </thead>\n",
       "  <tbody>\n",
       "    <tr>\n",
       "      <th>5</th>\n",
       "      <td>5</td>\n",
       "      <td>2014</td>\n",
       "      <td>11</td>\n",
       "      <td>15</td>\n",
       "      <td>3</td>\n",
       "      <td>1</td>\n",
       "      <td>4</td>\n",
       "      <td>5</td>\n",
       "      <td>1</td>\n",
       "      <td>1937</td>\n",
       "      <td>...</td>\n",
       "      <td>1</td>\n",
       "      <td>724</td>\n",
       "      <td>3</td>\n",
       "      <td>2</td>\n",
       "      <td>2</td>\n",
       "      <td>NaN</td>\n",
       "      <td>NaN</td>\n",
       "      <td>2</td>\n",
       "      <td>724</td>\n",
       "      <td>20160623</td>\n",
       "    </tr>\n",
       "    <tr>\n",
       "      <th>25</th>\n",
       "      <td>25</td>\n",
       "      <td>2014</td>\n",
       "      <td>11</td>\n",
       "      <td>15</td>\n",
       "      <td>10</td>\n",
       "      <td>1</td>\n",
       "      <td>2</td>\n",
       "      <td>15</td>\n",
       "      <td>10</td>\n",
       "      <td>1948</td>\n",
       "      <td>...</td>\n",
       "      <td>2</td>\n",
       "      <td>2362</td>\n",
       "      <td>6</td>\n",
       "      <td>2</td>\n",
       "      <td>1</td>\n",
       "      <td>1</td>\n",
       "      <td>1</td>\n",
       "      <td>1</td>\n",
       "      <td>2362</td>\n",
       "      <td>20160623</td>\n",
       "    </tr>\n",
       "    <tr>\n",
       "      <th>62</th>\n",
       "      <td>62</td>\n",
       "      <td>2014</td>\n",
       "      <td>11</td>\n",
       "      <td>23</td>\n",
       "      <td>6</td>\n",
       "      <td>1</td>\n",
       "      <td>4</td>\n",
       "      <td>22</td>\n",
       "      <td>7</td>\n",
       "      <td>1941</td>\n",
       "      <td>...</td>\n",
       "      <td>2</td>\n",
       "      <td>362</td>\n",
       "      <td>2</td>\n",
       "      <td>5</td>\n",
       "      <td>2</td>\n",
       "      <td>NaN</td>\n",
       "      <td>NaN</td>\n",
       "      <td>2</td>\n",
       "      <td>362</td>\n",
       "      <td>20160623</td>\n",
       "    </tr>\n",
       "    <tr>\n",
       "      <th>66</th>\n",
       "      <td>66</td>\n",
       "      <td>2014</td>\n",
       "      <td>11</td>\n",
       "      <td>23</td>\n",
       "      <td>8</td>\n",
       "      <td>1</td>\n",
       "      <td>2</td>\n",
       "      <td>7</td>\n",
       "      <td>8</td>\n",
       "      <td>1949</td>\n",
       "      <td>...</td>\n",
       "      <td>2</td>\n",
       "      <td>2862</td>\n",
       "      <td>6</td>\n",
       "      <td>5</td>\n",
       "      <td>1</td>\n",
       "      <td>1</td>\n",
       "      <td>1</td>\n",
       "      <td>1</td>\n",
       "      <td>2862</td>\n",
       "      <td>20160623</td>\n",
       "    </tr>\n",
       "    <tr>\n",
       "      <th>77</th>\n",
       "      <td>77</td>\n",
       "      <td>2014</td>\n",
       "      <td>11</td>\n",
       "      <td>23</td>\n",
       "      <td>13</td>\n",
       "      <td>1</td>\n",
       "      <td>4</td>\n",
       "      <td>27</td>\n",
       "      <td>2</td>\n",
       "      <td>1956</td>\n",
       "      <td>...</td>\n",
       "      <td>2</td>\n",
       "      <td>924</td>\n",
       "      <td>4</td>\n",
       "      <td>2</td>\n",
       "      <td>1</td>\n",
       "      <td>2</td>\n",
       "      <td>2</td>\n",
       "      <td>1</td>\n",
       "      <td>924</td>\n",
       "      <td>20160623</td>\n",
       "    </tr>\n",
       "  </tbody>\n",
       "</table>\n",
       "<p>5 rows × 342 columns</p>\n",
       "</div>"
      ],
      "text/plain": [
       "    Unnamed: 0  V0101  UF     V0102  V0103  V0301  V0302  V3031  V3032  V3033  \\\n",
       "5            5   2014     11     15      3      1      4      5      1   1937   \n",
       "25          25   2014     11     15     10      1      2     15     10   1948   \n",
       "62          62   2014     11     23      6      1      4     22      7   1941   \n",
       "66          66   2014     11     23      8      1      2      7      8   1949   \n",
       "77          77   2014     11     23     13      1      4     27      2   1956   \n",
       "\n",
       "      ...     V4741  V4742  V4743  V4745 V4746  V4747  V4748  V4749  V4750  \\\n",
       "5     ...         1    724      3      2     2    NaN    NaN      2    724   \n",
       "25    ...         2   2362      6      2     1      1      1      1   2362   \n",
       "62    ...         2    362      2      5     2    NaN    NaN      2    362   \n",
       "66    ...         2   2862      6      5     1      1      1      1   2862   \n",
       "77    ...         2    924      4      2     1      2      2      1    924   \n",
       "\n",
       "       V9993  \n",
       "5   20160623  \n",
       "25  20160623  \n",
       "62  20160623  \n",
       "66  20160623  \n",
       "77  20160623  \n",
       "\n",
       "[5 rows x 342 columns]"
      ]
     },
     "execution_count": 157,
     "metadata": {},
     "output_type": "execute_result"
    }
   ],
   "source": [
    "AposentadosBrancos.head()"
   ]
  },
  {
   "cell_type": "code",
   "execution_count": 158,
   "metadata": {
    "collapsed": true
   },
   "outputs": [],
   "source": [
    "#ab indica o número de aposentados brancos\n",
    "ab = AposentadosBrancos.shape[0]"
   ]
  },
  {
   "cell_type": "markdown",
   "metadata": {},
   "source": [
    "## <font color='red'>Dados da raça dos aposentados no Brasil</font>"
   ]
  },
  {
   "cell_type": "code",
   "execution_count": 159,
   "metadata": {
    "collapsed": false
   },
   "outputs": [
    {
     "data": {
      "text/plain": [
       "Branco      19712\n",
       "Pardo       15123\n",
       "Negro        3437\n",
       "Amarelo       222\n",
       "Indigena      149\n",
       "dtype: int64"
      ]
     },
     "execution_count": 159,
     "metadata": {},
     "output_type": "execute_result"
    }
   ],
   "source": [
    "aposentados.V0404.value_counts()"
   ]
  },
  {
   "cell_type": "code",
   "execution_count": 160,
   "metadata": {
    "collapsed": false
   },
   "outputs": [
    {
     "data": {
      "text/plain": [
       "<matplotlib.text.Text at 0x2200c806940>"
      ]
     },
     "execution_count": 160,
     "metadata": {},
     "output_type": "execute_result"
    },
    {
     "data": {
      "image/png": "[encoded data removed]",
      "text/plain": [
       "<matplotlib.figure.Figure at 0x2200c805d68>"
      ]
     },
     "metadata": {},
     "output_type": "display_data"
    }
   ],
   "source": [
    "grafico2 = aposentados.V0404.value_counts()\n",
    "grafico2.plot(kind='bar', color=('blue', 'red'), legend=False)\n",
    "plt.ylabel('Frequência')\n",
    "plt.xlabel('Raças')"
   ]
  },
  {
   "cell_type": "code",
   "execution_count": 161,
   "metadata": {
    "collapsed": false
   },
   "outputs": [
    {
     "name": "stdout",
     "output_type": "stream",
     "text": [
      "Frequências relativas por Raça:\n",
      "Branco      51.0\n",
      "Pardo       39.1\n",
      "Negro        8.9\n",
      "Amarelo      0.6\n",
      "Indigena     0.4\n",
      "dtype: float64 \n",
      "\n"
     ]
    }
   ],
   "source": [
    "print('Frequências relativas por Raça:')\n",
    "ut1 = (aposentados.V0404.value_counts()/n*100).round(decimals=1)\n",
    "print(ut1,'\\n')"
   ]
  },
  {
   "cell_type": "markdown",
   "metadata": {},
   "source": [
    "Com estes dados das raças, pode se ver que a população de aposentados é maioritariamente composta de brancos, ao contrario do que se ve quando se considera toda população brasileira"
   ]
  },
  {
   "cell_type": "markdown",
   "metadata": {},
   "source": [
    "## <font color='red'>Análise da escolaridade dos aposentados</font>"
   ]
  },
  {
   "cell_type": "code",
   "execution_count": 162,
   "metadata": {
    "collapsed": false
   },
   "outputs": [
    {
     "name": "stdout",
     "output_type": "stream",
     "text": [
      "Frequências relativas por Alfabetização:\n",
      "Alfabetizado    78.3\n",
      "Analfabeto      21.7\n",
      "dtype: float64 \n",
      "\n"
     ]
    }
   ],
   "source": [
    "print('Frequências relativas por Alfabetização:')\n",
    "ut2 = (aposentados.V0601.value_counts()/n*100).round(decimals=1)\n",
    "print(ut2,'\\n')"
   ]
  },
  {
   "cell_type": "code",
   "execution_count": 163,
   "metadata": {
    "collapsed": false
   },
   "outputs": [
    {
     "data": {
      "text/plain": [
       "<matplotlib.axes._subplots.AxesSubplot at 0x2200cad0a20>"
      ]
     },
     "execution_count": 163,
     "metadata": {},
     "output_type": "execute_result"
    },
    {
     "data": {
      "image/png": "[encoded data removed]",
      "text/plain": [
       "<matplotlib.figure.Figure at 0x2200cad3710>"
      ]
     },
     "metadata": {},
     "output_type": "display_data"
    }
   ],
   "source": [
    "pV0601 = aposentados.V0601.value_counts()\n",
    "pV0601.plot(kind='pie', colors=('blue', 'red'),title = 'Frequência relativa da alfabetização',autopct=\"%0.2f\")"
   ]
  },
  {
   "cell_type": "code",
   "execution_count": 164,
   "metadata": {
    "collapsed": true
   },
   "outputs": [],
   "source": [
    "ct_V0601_V0404 = pd.crosstab(aposentados.V0404, aposentados.V0601, rownames=['Raça'], colnames=['Alfabetização'], margins=True)"
   ]
  },
  {
   "cell_type": "code",
   "execution_count": 165,
   "metadata": {
    "collapsed": false
   },
   "outputs": [
    {
     "name": "stdout",
     "output_type": "stream",
     "text": [
      "Tabela Cruzada por total GERAL:\n"
     ]
    },
    {
     "data": {
      "text/html": [
       "<div>\n",
       "<table border=\"1\" class=\"dataframe\">\n",
       "  <thead>\n",
       "    <tr style=\"text-align: right;\">\n",
       "      <th>Alfabetização</th>\n",
       "      <th>Alfabetizado</th>\n",
       "      <th>Analfabeto</th>\n",
       "      <th>All</th>\n",
       "    </tr>\n",
       "    <tr>\n",
       "      <th>Raça</th>\n",
       "      <th></th>\n",
       "      <th></th>\n",
       "      <th></th>\n",
       "    </tr>\n",
       "  </thead>\n",
       "  <tbody>\n",
       "    <tr>\n",
       "      <th>Indigena</th>\n",
       "      <td>100</td>\n",
       "      <td>49</td>\n",
       "      <td>149</td>\n",
       "    </tr>\n",
       "    <tr>\n",
       "      <th>Branco</th>\n",
       "      <td>17176</td>\n",
       "      <td>2536</td>\n",
       "      <td>19712</td>\n",
       "    </tr>\n",
       "    <tr>\n",
       "      <th>Negro</th>\n",
       "      <td>2396</td>\n",
       "      <td>1041</td>\n",
       "      <td>3437</td>\n",
       "    </tr>\n",
       "    <tr>\n",
       "      <th>Amarelo</th>\n",
       "      <td>210</td>\n",
       "      <td>12</td>\n",
       "      <td>222</td>\n",
       "    </tr>\n",
       "    <tr>\n",
       "      <th>Pardo</th>\n",
       "      <td>10357</td>\n",
       "      <td>4766</td>\n",
       "      <td>15123</td>\n",
       "    </tr>\n",
       "    <tr>\n",
       "      <th>All</th>\n",
       "      <td>30239</td>\n",
       "      <td>8404</td>\n",
       "      <td>38643</td>\n",
       "    </tr>\n",
       "  </tbody>\n",
       "</table>\n",
       "</div>"
      ],
      "text/plain": [
       "Alfabetização  Alfabetizado  Analfabeto    All\n",
       "Raça                                          \n",
       "Indigena                100          49    149\n",
       "Branco                17176        2536  19712\n",
       "Negro                  2396        1041   3437\n",
       "Amarelo                 210          12    222\n",
       "Pardo                 10357        4766  15123\n",
       "All                   30239        8404  38643"
      ]
     },
     "execution_count": 165,
     "metadata": {},
     "output_type": "execute_result"
    }
   ],
   "source": [
    "print('Tabela Cruzada por total GERAL:')\n",
    "ct_V0601_V0404"
   ]
  },
  {
   "cell_type": "code",
   "execution_count": 166,
   "metadata": {
    "collapsed": false
   },
   "outputs": [
    {
     "name": "stdout",
     "output_type": "stream",
     "text": [
      "Tabela Cruzada por total GERAL (em %):\n"
     ]
    },
    {
     "data": {
      "text/html": [
       "<div>\n",
       "<table border=\"1\" class=\"dataframe\">\n",
       "  <thead>\n",
       "    <tr style=\"text-align: right;\">\n",
       "      <th></th>\n",
       "      <th>Alfabetizado</th>\n",
       "      <th>Analfabeto</th>\n",
       "      <th>All</th>\n",
       "    </tr>\n",
       "    <tr>\n",
       "      <th>Raça</th>\n",
       "      <th></th>\n",
       "      <th></th>\n",
       "      <th></th>\n",
       "    </tr>\n",
       "  </thead>\n",
       "  <tbody>\n",
       "    <tr>\n",
       "      <th>Indigena</th>\n",
       "      <td>0.3</td>\n",
       "      <td>0.1</td>\n",
       "      <td>0.4</td>\n",
       "    </tr>\n",
       "    <tr>\n",
       "      <th>Branco</th>\n",
       "      <td>44.4</td>\n",
       "      <td>6.6</td>\n",
       "      <td>51.0</td>\n",
       "    </tr>\n",
       "    <tr>\n",
       "      <th>Negro</th>\n",
       "      <td>6.2</td>\n",
       "      <td>2.7</td>\n",
       "      <td>8.9</td>\n",
       "    </tr>\n",
       "    <tr>\n",
       "      <th>Amarelo</th>\n",
       "      <td>0.5</td>\n",
       "      <td>0.0</td>\n",
       "      <td>0.6</td>\n",
       "    </tr>\n",
       "    <tr>\n",
       "      <th>Pardo</th>\n",
       "      <td>26.8</td>\n",
       "      <td>12.3</td>\n",
       "      <td>39.1</td>\n",
       "    </tr>\n",
       "    <tr>\n",
       "      <th>All</th>\n",
       "      <td>78.3</td>\n",
       "      <td>21.7</td>\n",
       "      <td>100.0</td>\n",
       "    </tr>\n",
       "  </tbody>\n",
       "</table>\n",
       "</div>"
      ],
      "text/plain": [
       "          Alfabetizado  Analfabeto    All\n",
       "Raça                                     \n",
       "Indigena           0.3         0.1    0.4\n",
       "Branco            44.4         6.6   51.0\n",
       "Negro              6.2         2.7    8.9\n",
       "Amarelo            0.5         0.0    0.6\n",
       "Pardo             26.8        12.3   39.1\n",
       "All               78.3        21.7  100.0"
      ]
     },
     "execution_count": 166,
     "metadata": {},
     "output_type": "execute_result"
    }
   ],
   "source": [
    "print('Tabela Cruzada por total GERAL (em %):')\n",
    "ct1_V0601_V0404 = (ct_V0601_V0404/len(aposentados)*100).round(decimals=1)\n",
    "ct1_V0601_V0404"
   ]
  },
  {
   "cell_type": "code",
   "execution_count": 167,
   "metadata": {
    "collapsed": false
   },
   "outputs": [
    {
     "data": {
      "text/plain": [
       "<matplotlib.text.Text at 0x2200cb17710>"
      ]
     },
     "execution_count": 167,
     "metadata": {},
     "output_type": "execute_result"
    },
    {
     "data": {
      "image/png": "[encoded data removed]",
      "text/plain": [
       "<matplotlib.figure.Figure at 0x2200c479978>"
      ]
     },
     "metadata": {},
     "output_type": "display_data"
    }
   ],
   "source": [
    "ct1_V0601_V0404.plot(kind = 'bar', title='Frequencia relativa do toal geral de alfabetização')\n",
    "plt.ylabel('Frequência relativa')"
   ]
  },
  {
   "cell_type": "code",
   "execution_count": 168,
   "metadata": {
    "collapsed": false
   },
   "outputs": [
    {
     "name": "stdout",
     "output_type": "stream",
     "text": [
      "Frequências relativas de aposentados brancos analfabetos:\n",
      "Alfabetizado    87.1\n",
      "Analfabeto      12.9\n",
      "dtype: float64 \n",
      "\n",
      "Frequências relativas de aposentados negors analfabetos\n",
      "Alfabetizado    69.7\n",
      "Analfabeto      30.3\n",
      "dtype: float64 \n",
      "\n"
     ]
    }
   ],
   "source": [
    "print('Frequências relativas de aposentados brancos analfabetos:')\n",
    "ut1 = (AposentadosBrancos.V0601.value_counts()/ab*100).round(decimals=1)\n",
    "print(ut1,'\\n')\n",
    "\n",
    "print('Frequências relativas de aposentados negors analfabetos')\n",
    "ut2 = (AposentadosNegros.V0601.value_counts()/an*100).round(decimals=1)\n",
    "print(ut2,'\\n')"
   ]
  },
  {
   "cell_type": "code",
   "execution_count": 169,
   "metadata": {
    "collapsed": false
   },
   "outputs": [
    {
     "data": {
      "text/plain": [
       "<matplotlib.axes._subplots.AxesSubplot at 0x2200f780d30>"
      ]
     },
     "execution_count": 169,
     "metadata": {},
     "output_type": "execute_result"
    },
    {
     "data": {
      "image/png": "[encoded data removed]",
      "text/plain": [
       "<matplotlib.figure.Figure at 0x2200c8a6390>"
      ]
     },
     "metadata": {},
     "output_type": "display_data"
    }
   ],
   "source": [
    "abV0601 = AposentadosBrancos.V0601.value_counts()\n",
    "abV0601.plot(kind='pie', colors=('blue', 'red'),title = 'Frequências relativas de aposentados brancos analfabetos', autopct=\"%0.2f\")"
   ]
  },
  {
   "cell_type": "code",
   "execution_count": 170,
   "metadata": {
    "collapsed": false
   },
   "outputs": [
    {
     "data": {
      "text/plain": [
       "<matplotlib.axes._subplots.AxesSubplot at 0x2200cb85358>"
      ]
     },
     "execution_count": 170,
     "metadata": {},
     "output_type": "execute_result"
    },
    {
     "data": {
      "image/png": "[encoded data removed]",
      "text/plain": [
       "<matplotlib.figure.Figure at 0x2200cb79390>"
      ]
     },
     "metadata": {},
     "output_type": "display_data"
    }
   ],
   "source": [
    "anV0601 = AposentadosNegros.V0601.value_counts()\n",
    "anV0601.plot(kind='pie', colors=('blue', 'red'),title = 'Frequências relativas de aposentados negros analfabetos',autopct=\"%0.2f\")"
   ]
  },
  {
   "cell_type": "code",
   "execution_count": 171,
   "metadata": {
    "collapsed": false
   },
   "outputs": [
    {
     "name": "stdout",
     "output_type": "stream",
     "text": [
      "Frequências relativas de aposentados brancos que frequantaram escolas ou creches:\n",
      "Sim    89.0\n",
      "Não    10.6\n",
      "dtype: float64 \n",
      "\n",
      "Frequências relativas de aposentados negors que frequantaram escolas ou creches:\n",
      "Sim    76.1\n",
      "Não    22.6\n",
      "dtype: float64 \n",
      "\n"
     ]
    }
   ],
   "source": [
    "print('Frequências relativas de aposentados brancos que frequantaram escolas ou creches:')\n",
    "ut1 = (AposentadosBrancos.V0606.value_counts()/ab*100).round(decimals=1)\n",
    "print(ut1,'\\n')\n",
    "\n",
    "print('Frequências relativas de aposentados negors que frequantaram escolas ou creches:')\n",
    "ut2 = (AposentadosNegros.V0606.value_counts()/an*100).round(decimals=1)\n",
    "print(ut2,'\\n')\n"
   ]
  },
  {
   "cell_type": "code",
   "execution_count": 172,
   "metadata": {
    "collapsed": false
   },
   "outputs": [
    {
     "name": "stdout",
     "output_type": "stream",
     "text": [
      "Curso mais elevado frequentado por aposentados brancos: \n"
     ]
    },
    {
     "data": {
      "text/plain": [
       "Primario                             7631\n",
       "Superior de graduação                3171\n",
       "Regular do ensino médio              1692\n",
       "Médio 1º ciclo                       1544\n",
       "Médio 2º ciclo                       1391\n",
       "Regular do ensino fundamental        1290\n",
       "Supletivo de ensino médio             244\n",
       "Mestrado ou doutorado                 185\n",
       "Supletivo do ensino fundamental       171\n",
       "Classe de alfabetização - CA          123\n",
       "Alfabetização de jovens e adultos      90\n",
       "Jardim de infância                      3\n",
       "Creche                                  1\n",
       "dtype: int64"
      ]
     },
     "execution_count": 172,
     "metadata": {},
     "output_type": "execute_result"
    }
   ],
   "source": [
    "print('Curso mais elevado frequentado por aposentados brancos: ')\n",
    "ut1 = AposentadosBrancos.V6007.value_counts()\n",
    "ut1"
   ]
  },
  {
   "cell_type": "code",
   "execution_count": 173,
   "metadata": {
    "collapsed": false
   },
   "outputs": [
    {
     "name": "stdout",
     "output_type": "stream",
     "text": [
      "Curso mais elevado frequentado por aposentados negros: \n"
     ]
    },
    {
     "data": {
      "text/plain": [
       "Primario                             1245\n",
       "Regular do ensino fundamental         325\n",
       "Regular do ensino médio               270\n",
       "Médio 1º ciclo                        242\n",
       "Superior de graduação                 204\n",
       "Médio 2º ciclo                        144\n",
       "Supletivo do ensino fundamental        59\n",
       "Classe de alfabetização - CA           42\n",
       "Supletivo de ensino médio              39\n",
       "Alfabetização de jovens e adultos      37\n",
       "Mestrado ou doutorado                   7\n",
       "Jardim de infância                      0\n",
       "Creche                                  0\n",
       "dtype: int64"
      ]
     },
     "execution_count": 173,
     "metadata": {},
     "output_type": "execute_result"
    }
   ],
   "source": [
    "print('Curso mais elevado frequentado por aposentados negros: ')\n",
    "ut1 = AposentadosNegros.V6007.value_counts()\n",
    "ut1"
   ]
  },
  {
   "cell_type": "code",
   "execution_count": 174,
   "metadata": {
    "collapsed": false
   },
   "outputs": [
    {
     "name": "stdout",
     "output_type": "stream",
     "text": [
      "Frequências relativas de cursos mais altos frequentados para aposentados brancos:\n",
      "Primario                             38.7\n",
      "Superior de graduação                16.1\n",
      "Regular do ensino médio               8.6\n",
      "Médio 1º ciclo                        7.8\n",
      "Médio 2º ciclo                        7.1\n",
      "Regular do ensino fundamental         6.5\n",
      "Supletivo de ensino médio             1.2\n",
      "Mestrado ou doutorado                 0.9\n",
      "Supletivo do ensino fundamental       0.9\n",
      "Classe de alfabetização - CA          0.6\n",
      "Alfabetização de jovens e adultos     0.5\n",
      "Jardim de infância                    0.0\n",
      "Creche                                0.0\n",
      "dtype: float64 \n",
      "\n"
     ]
    }
   ],
   "source": [
    "print('Frequências relativas de cursos mais altos frequentados para aposentados brancos:')\n",
    "ut2 = (AposentadosBrancos.V6007.value_counts()/ab*100).round(decimals=1)\n",
    "print(ut2,'\\n')"
   ]
  },
  {
   "cell_type": "code",
   "execution_count": 175,
   "metadata": {
    "collapsed": false
   },
   "outputs": [
    {
     "name": "stdout",
     "output_type": "stream",
     "text": [
      "Frequências relativas de cursos mais altos frequentados para aposentados negros:\n",
      "Primario                             36.2\n",
      "Regular do ensino fundamental         9.5\n",
      "Regular do ensino médio               7.9\n",
      "Médio 1º ciclo                        7.0\n",
      "Superior de graduação                 5.9\n",
      "Médio 2º ciclo                        4.2\n",
      "Supletivo do ensino fundamental       1.7\n",
      "Classe de alfabetização - CA          1.2\n",
      "Supletivo de ensino médio             1.1\n",
      "Alfabetização de jovens e adultos     1.1\n",
      "Mestrado ou doutorado                 0.2\n",
      "Jardim de infância                    0.0\n",
      "Creche                                0.0\n",
      "dtype: float64 \n",
      "\n"
     ]
    }
   ],
   "source": [
    "print('Frequências relativas de cursos mais altos frequentados para aposentados negros:')\n",
    "ut2 = (AposentadosNegros.V6007.value_counts()/an*100).round(decimals=1)\n",
    "print(ut2,'\\n')"
   ]
  },
  {
   "cell_type": "code",
   "execution_count": 176,
   "metadata": {
    "collapsed": false
   },
   "outputs": [],
   "source": [
    "ct_V6007_V0404 = pd.crosstab(aposentados.V6007, aposentados.V0404, rownames=['Curso mais alto'], colnames=['Raça'], margins=False)"
   ]
  },
  {
   "cell_type": "code",
   "execution_count": 177,
   "metadata": {
    "collapsed": false
   },
   "outputs": [
    {
     "data": {
      "text/html": [
       "<div>\n",
       "<table border=\"1\" class=\"dataframe\">\n",
       "  <thead>\n",
       "    <tr style=\"text-align: right;\">\n",
       "      <th>Raça</th>\n",
       "      <th>Indigena</th>\n",
       "      <th>Branco</th>\n",
       "      <th>Negro</th>\n",
       "      <th>Amarelo</th>\n",
       "      <th>Pardo</th>\n",
       "    </tr>\n",
       "    <tr>\n",
       "      <th>Curso mais alto</th>\n",
       "      <th></th>\n",
       "      <th></th>\n",
       "      <th></th>\n",
       "      <th></th>\n",
       "      <th></th>\n",
       "    </tr>\n",
       "  </thead>\n",
       "  <tbody>\n",
       "    <tr>\n",
       "      <th>Primario</th>\n",
       "      <td>40</td>\n",
       "      <td>7631</td>\n",
       "      <td>1245</td>\n",
       "      <td>73</td>\n",
       "      <td>5824</td>\n",
       "    </tr>\n",
       "    <tr>\n",
       "      <th>Médio 1º ciclo</th>\n",
       "      <td>8</td>\n",
       "      <td>1544</td>\n",
       "      <td>242</td>\n",
       "      <td>23</td>\n",
       "      <td>891</td>\n",
       "    </tr>\n",
       "    <tr>\n",
       "      <th>Médio 2º ciclo</th>\n",
       "      <td>4</td>\n",
       "      <td>1391</td>\n",
       "      <td>144</td>\n",
       "      <td>18</td>\n",
       "      <td>653</td>\n",
       "    </tr>\n",
       "    <tr>\n",
       "      <th>Regular do ensino fundamental</th>\n",
       "      <td>12</td>\n",
       "      <td>1290</td>\n",
       "      <td>325</td>\n",
       "      <td>8</td>\n",
       "      <td>1252</td>\n",
       "    </tr>\n",
       "    <tr>\n",
       "      <th>Regular do ensino médio</th>\n",
       "      <td>7</td>\n",
       "      <td>1692</td>\n",
       "      <td>270</td>\n",
       "      <td>15</td>\n",
       "      <td>991</td>\n",
       "    </tr>\n",
       "    <tr>\n",
       "      <th>Supletivo do ensino fundamental</th>\n",
       "      <td>2</td>\n",
       "      <td>171</td>\n",
       "      <td>59</td>\n",
       "      <td>0</td>\n",
       "      <td>242</td>\n",
       "    </tr>\n",
       "    <tr>\n",
       "      <th>Supletivo de ensino médio</th>\n",
       "      <td>2</td>\n",
       "      <td>244</td>\n",
       "      <td>39</td>\n",
       "      <td>2</td>\n",
       "      <td>131</td>\n",
       "    </tr>\n",
       "    <tr>\n",
       "      <th>Superior de graduação</th>\n",
       "      <td>14</td>\n",
       "      <td>3171</td>\n",
       "      <td>204</td>\n",
       "      <td>61</td>\n",
       "      <td>949</td>\n",
       "    </tr>\n",
       "    <tr>\n",
       "      <th>Mestrado ou doutorado</th>\n",
       "      <td>2</td>\n",
       "      <td>185</td>\n",
       "      <td>7</td>\n",
       "      <td>5</td>\n",
       "      <td>50</td>\n",
       "    </tr>\n",
       "    <tr>\n",
       "      <th>Alfabetização de jovens e adultos</th>\n",
       "      <td>0</td>\n",
       "      <td>90</td>\n",
       "      <td>37</td>\n",
       "      <td>0</td>\n",
       "      <td>184</td>\n",
       "    </tr>\n",
       "    <tr>\n",
       "      <th>Creche</th>\n",
       "      <td>0</td>\n",
       "      <td>1</td>\n",
       "      <td>0</td>\n",
       "      <td>0</td>\n",
       "      <td>0</td>\n",
       "    </tr>\n",
       "    <tr>\n",
       "      <th>Classe de alfabetização - CA</th>\n",
       "      <td>5</td>\n",
       "      <td>123</td>\n",
       "      <td>42</td>\n",
       "      <td>0</td>\n",
       "      <td>323</td>\n",
       "    </tr>\n",
       "    <tr>\n",
       "      <th>Jardim de infância</th>\n",
       "      <td>0</td>\n",
       "      <td>3</td>\n",
       "      <td>0</td>\n",
       "      <td>0</td>\n",
       "      <td>3</td>\n",
       "    </tr>\n",
       "  </tbody>\n",
       "</table>\n",
       "</div>"
      ],
      "text/plain": [
       "Raça                               Indigena  Branco  Negro  Amarelo  Pardo\n",
       "Curso mais alto                                                           \n",
       "Primario                                 40    7631   1245       73   5824\n",
       "Médio 1º ciclo                            8    1544    242       23    891\n",
       "Médio 2º ciclo                            4    1391    144       18    653\n",
       "Regular do ensino fundamental            12    1290    325        8   1252\n",
       "Regular do ensino médio                   7    1692    270       15    991\n",
       "Supletivo do ensino fundamental           2     171     59        0    242\n",
       "Supletivo de ensino médio                 2     244     39        2    131\n",
       "Superior de graduação                    14    3171    204       61    949\n",
       "Mestrado ou doutorado                     2     185      7        5     50\n",
       "Alfabetização de jovens e adultos         0      90     37        0    184\n",
       "Creche                                    0       1      0        0      0\n",
       "Classe de alfabetização - CA              5     123     42        0    323\n",
       "Jardim de infância                        0       3      0        0      3"
      ]
     },
     "execution_count": 177,
     "metadata": {},
     "output_type": "execute_result"
    }
   ],
   "source": [
    "ct_V6007_V0404"
   ]
  },
  {
   "cell_type": "code",
   "execution_count": 178,
   "metadata": {
    "collapsed": false
   },
   "outputs": [
    {
     "data": {
      "text/plain": [
       "<matplotlib.text.Text at 0x2200f4e6898>"
      ]
     },
     "execution_count": 178,
     "metadata": {},
     "output_type": "execute_result"
    },
    {
     "data": {
      "image/png": "[encoded data removed]",
      "text/plain": [
       "<matplotlib.figure.Figure at 0x2200d39be10>"
      ]
     },
     "metadata": {},
     "output_type": "display_data"
    }
   ],
   "source": [
    "ct_V6007_V0404.plot(kind = 'bar', figsize=(10 , 10), title = 'Frequência absoluta de cursos mais altos que aposentados frequentaram')\n",
    "plt.ylabel('Frequência absoluta')"
   ]
  },
  {
   "cell_type": "markdown",
   "metadata": {},
   "source": [
    "Com os dados da escolaridade dos aposentados, pode-se ver que mais uma vez os brancos tem superioridade social. Mais de 87% dos brancos são alfabetizados, enquanto que menos de 70% dos negros são alfabetizados. Além disso, quase 90% dos aposentados brancos frequentaram escolas ou creches e apenas 76% aposentados negros frequentaram. Destes que frequentaram, 16,1% dos aposentados brancos cursaram cursos superiores e apenas 5,9% dos aposentados negros cursaram estes cursos."
   ]
  },
  {
   "cell_type": "markdown",
   "metadata": {},
   "source": [
    "## <font color='red'>Análise da renda dos aposentados brancos e negros</font>"
   ]
  },
  {
   "cell_type": "code",
   "execution_count": 179,
   "metadata": {
    "collapsed": false
   },
   "outputs": [
    {
     "name": "stdout",
     "output_type": "stream",
     "text": [
      "Maior renda de um aposentado branco (em R$): \n"
     ]
    },
    {
     "data": {
      "text/plain": [
       "331200.0"
      ]
     },
     "execution_count": 179,
     "metadata": {},
     "output_type": "execute_result"
    }
   ],
   "source": [
    "print('Maior renda de um aposentado branco (em R$): ')\n",
    "AposentadosBrancos.V4750.max()"
   ]
  },
  {
   "cell_type": "code",
   "execution_count": 180,
   "metadata": {
    "collapsed": false
   },
   "outputs": [
    {
     "name": "stdout",
     "output_type": "stream",
     "text": [
      "Maior renda de um aposentado negro (em R$): \n"
     ]
    },
    {
     "data": {
      "text/plain": [
       "12200.0"
      ]
     },
     "execution_count": 180,
     "metadata": {},
     "output_type": "execute_result"
    }
   ],
   "source": [
    "print('Maior renda de um aposentado negro (em R$): ')\n",
    "AposentadosNegros.V4750.max()"
   ]
  },
  {
   "cell_type": "code",
   "execution_count": 181,
   "metadata": {
    "collapsed": false
   },
   "outputs": [
    {
     "name": "stdout",
     "output_type": "stream",
     "text": [
      "Media da renda mensal dos aposentados brancos (em R$): \n"
     ]
    },
    {
     "data": {
      "text/plain": [
       "1901"
      ]
     },
     "execution_count": 181,
     "metadata": {},
     "output_type": "execute_result"
    }
   ],
   "source": [
    "print('Media da renda mensal dos aposentados brancos (em R$): ')\n",
    "int(AposentadosBrancos.V4750.mean())"
   ]
  },
  {
   "cell_type": "code",
   "execution_count": 182,
   "metadata": {
    "collapsed": false
   },
   "outputs": [
    {
     "name": "stdout",
     "output_type": "stream",
     "text": [
      "Media da renda mensal dos aposentados negros (em R$): \n"
     ]
    },
    {
     "data": {
      "text/plain": [
       "1071"
      ]
     },
     "execution_count": 182,
     "metadata": {},
     "output_type": "execute_result"
    }
   ],
   "source": [
    "print('Media da renda mensal dos aposentados negros (em R$): ')\n",
    "int(AposentadosNegros.V4750.mean())"
   ]
  },
  {
   "cell_type": "code",
   "execution_count": 183,
   "metadata": {
    "collapsed": false
   },
   "outputs": [
    {
     "data": {
      "text/plain": [
       "<matplotlib.text.Text at 0x2200dc30fd0>"
      ]
     },
     "execution_count": 183,
     "metadata": {},
     "output_type": "execute_result"
    },
    {
     "data": {
      "image/png": "[encoded data removed]",
      "text/plain": [
       "<matplotlib.figure.Figure at 0x2200d2fd748>"
      ]
     },
     "metadata": {},
     "output_type": "display_data"
    }
   ],
   "source": [
    "AposentadosNegros.V4750.plot (kind='box', figsize=(10,10), title = 'Boxplot da renda de aposentados negros')\n",
    "plt.axis([0,2,0,6000])\n",
    "plt.ylabel('Renda(em R$)')"
   ]
  },
  {
   "cell_type": "code",
   "execution_count": 184,
   "metadata": {
    "collapsed": false
   },
   "outputs": [
    {
     "data": {
      "text/plain": [
       "<matplotlib.text.Text at 0x2200dc1be10>"
      ]
     },
     "execution_count": 184,
     "metadata": {},
     "output_type": "execute_result"
    },
    {
     "data": {
      "image/png": "[encoded data removed]",
      "text/plain": [
       "<matplotlib.figure.Figure at 0x2200cc2b2e8>"
      ]
     },
     "metadata": {},
     "output_type": "display_data"
    }
   ],
   "source": [
    "AposentadosBrancos.V4750.plot (kind='box', figsize=(10,10), title = 'Boxplot da renda de aposentados negros')\n",
    "plt.axis([0,2,0,6000])\n",
    "plt.ylabel('Renda(em R$)')"
   ]
  },
  {
   "cell_type": "code",
   "execution_count": 185,
   "metadata": {
    "collapsed": false
   },
   "outputs": [],
   "source": [
    "faixa = arange(500, 5001 ,125)"
   ]
  },
  {
   "cell_type": "code",
   "execution_count": 186,
   "metadata": {
    "collapsed": false
   },
   "outputs": [
    {
     "name": "stdout",
     "output_type": "stream",
     "text": [
      "Frequencia relativa de aposentados brancos em cada faixa de renda:\n"
     ]
    },
    {
     "data": {
      "text/plain": [
       "(625, 750]      17.532468\n",
       "(750, 875]       6.447849\n",
       "(875, 1000]      6.184050\n",
       "(1375, 1500]     6.143466\n",
       "(1000, 1125]     5.839083\n",
       "(1125, 1250]     4.489651\n",
       "(500, 625]       3.967127\n",
       "(1250, 1375]     3.688109\n",
       "(1500, 1625]     2.597403\n",
       "(1625, 1750]     2.338677\n",
       "(1750, 1875]     2.135755\n",
       "(1875, 2000]     2.074878\n",
       "(2125, 2250]     1.567573\n",
       "(2000, 2125]     1.537135\n",
       "(2375, 2500]     1.313920\n",
       "(2875, 3000]     1.090706\n",
       "(2625, 2750]     1.039976\n",
       "(2250, 2375]     0.943588\n",
       "(2750, 2875]     0.837054\n",
       "(2500, 2625]     0.837054\n",
       "(3125, 3250]     0.771104\n",
       "(3375, 3500]     0.760958\n",
       "(3875, 4000]     0.695008\n",
       "(3250, 3375]     0.578328\n",
       "(3000, 3125]     0.547890\n",
       "(3750, 3875]     0.492086\n",
       "(3625, 3750]     0.466721\n",
       "(4875, 5000]     0.466721\n",
       "(4375, 4500]     0.456575\n",
       "(3500, 3625]     0.421063\n",
       "(4125, 4250]     0.375406\n",
       "(4000, 4125]     0.309456\n",
       "(4250, 4375]     0.309456\n",
       "(4625, 4750]     0.299310\n",
       "(4500, 4625]     0.273945\n",
       "(4750, 4875]     0.152192\n",
       "dtype: float64"
      ]
     },
     "execution_count": 186,
     "metadata": {},
     "output_type": "execute_result"
    }
   ],
   "source": [
    "AposentadosBrancosRenda = pd.cut(AposentadosBrancos.V4750, faixa)\n",
    "print('Frequencia relativa de aposentados brancos em cada faixa de renda:')\n",
    "AposentadosBrancosRenda.value_counts()/ab*100"
   ]
  },
  {
   "cell_type": "code",
   "execution_count": 187,
   "metadata": {
    "collapsed": false
   },
   "outputs": [
    {
     "name": "stdout",
     "output_type": "stream",
     "text": [
      "Frequencia relativa de aposentados negros em cada faixa de renda:\n"
     ]
    },
    {
     "data": {
      "text/plain": [
       "(625, 750]      23.043352\n",
       "(750, 875]       8.757637\n",
       "(500, 625]       7.826593\n",
       "(875, 1000]      6.779168\n",
       "(1000, 1125]     5.266221\n",
       "(1375, 1500]     4.364271\n",
       "(1125, 1250]     3.956939\n",
       "(1250, 1375]     3.636893\n",
       "(1500, 1625]     1.803899\n",
       "(1625, 1750]     1.542042\n",
       "(1875, 2000]     1.425662\n",
       "(1750, 1875]     1.251091\n",
       "(2125, 2250]     0.960140\n",
       "(2000, 2125]     0.581903\n",
       "(2375, 2500]     0.581903\n",
       "(2750, 2875]     0.436427\n",
       "(2625, 2750]     0.436427\n",
       "(2875, 3000]     0.436427\n",
       "(3250, 3375]     0.436427\n",
       "(2250, 2375]     0.378237\n",
       "(4375, 4500]     0.320047\n",
       "(3625, 3750]     0.290951\n",
       "(3875, 4000]     0.261856\n",
       "(2500, 2625]     0.261856\n",
       "(3375, 3500]     0.203666\n",
       "(3500, 3625]     0.203666\n",
       "(4875, 5000]     0.203666\n",
       "(3000, 3125]     0.174571\n",
       "(4125, 4250]     0.174571\n",
       "(4500, 4625]     0.145476\n",
       "(3125, 3250]     0.116381\n",
       "(3750, 3875]     0.116381\n",
       "(4250, 4375]     0.116381\n",
       "(4000, 4125]     0.058190\n",
       "(4750, 4875]     0.029095\n",
       "(4625, 4750]     0.029095\n",
       "dtype: float64"
      ]
     },
     "execution_count": 187,
     "metadata": {},
     "output_type": "execute_result"
    }
   ],
   "source": [
    "AposentadosNegrosRenda = pd.cut(AposentadosNegros.V4750, faixa)\n",
    "print('Frequencia relativa de aposentados negros em cada faixa de renda:')\n",
    "AposentadosNegrosRenda.value_counts()/an*100"
   ]
  },
  {
   "cell_type": "code",
   "execution_count": 188,
   "metadata": {
    "collapsed": false
   },
   "outputs": [
    {
     "data": {
      "text/plain": [
       "<matplotlib.axes._subplots.AxesSubplot at 0x2200c4faf28>"
      ]
     },
     "execution_count": 188,
     "metadata": {},
     "output_type": "execute_result"
    },
    {
     "data": {
      "image/png": "[encoded data removed]",
      "text/plain": [
       "<matplotlib.figure.Figure at 0x2200dcc5860>"
      ]
     },
     "metadata": {},
     "output_type": "display_data"
    }
   ],
   "source": [
    "plot = AposentadosBrancos.V4750.plot.hist(bins =faixa)\n",
    "plot"
   ]
  },
  {
   "cell_type": "code",
   "execution_count": 189,
   "metadata": {
    "collapsed": false
   },
   "outputs": [
    {
     "data": {
      "image/png": "[encoded data removed]",
      "text/plain": [
       "<matplotlib.figure.Figure at 0x2200ce05ba8>"
      ]
     },
     "metadata": {},
     "output_type": "display_data"
    }
   ],
   "source": [
    "plot1 = AposentadosNegros.V4750.plot.hist(bins=faixa)\n"
   ]
  },
  {
   "cell_type": "markdown",
   "metadata": {},
   "source": [
    "Na renda, vemos que a media de renda de aposentados brancos é maior que a de negros. Além disso, a frequencia relativa de negros nas faixas mais baixas é maior que a de brancos."
   ]
  },
  {
   "cell_type": "markdown",
   "metadata": {
    "collapsed": false
   },
   "source": [
    "___\n",
    "## Conclusão "
   ]
  },
  {
   "cell_type": "markdown",
   "metadata": {
    "collapsed": true
   },
   "source": [
    "Após analisar todos os dados, fica claro que as condições sociais de brancos são melhores que a de negros. Em nenhum aspecto analisado as condições de vida do aposentado negro é melhor que a do branco. Com isso, as afirmações de que brancos tem melhores condições sociais do que negros, também valem para os aposentados."
   ]
  }
 ],
 "metadata": {
  "anaconda-cloud": {},
  "kernelspec": {
   "display_name": "Python 3",
   "language": "python",
   "name": "python3"
  },
  "language_info": {
   "codemirror_mode": {
    "name": "ipython",
    "version": 3
   },
   "file_extension": ".py",
   "mimetype": "text/x-python",
   "name": "python",
   "nbconvert_exporter": "python",
   "pygments_lexer": "ipython3",
   "version": "3.5.2"
  }
 },
 "nbformat": 4,
 "nbformat_minor": 0
}
