{
 "cells": [
  {
   "cell_type": "markdown",
   "metadata": {},
   "source": [
    "# Projeto 2: Teste AB\n",
    "\n",
    "## Integrantes: LUCA NOTO, BRUNO PORTO E FELIPE GIORGI\n",
    "\n",
    "** Durante as aulas de Ciência dos Dados do segundo semestre, fomos propostos a aplicar um teste A/B em uma das páginas WEB desenvolvidas durante o curso de engenharia do insper. **\n",
    "\n",
    "### O que é o teste A/B?\n",
    "\n",
    "**Este teste é muito utilizado por empresas para conhecerem melhor seu público e identificar qual abordagem funciona melhor para seu site. O teste A/B consiste em dividir o tráfego de uma determidada página em duas versões diferentes, uma é a atual e a outra é uma espécie de desafiante. Em ambas as versões os usuários são propostos a realizar uma tarefa semelhante e a partir de algumas inferências estatísticas é possível decidir qual versão é a mais eficiente.  **\n",
    "\n",
    "**Neste projeto, as duas páginas a serem testadas são os portifólios de projetos de dois grupos de alunos do INSPER, que foram desenvolvidos para mesma finalidade, porém o site A tem um menu com botões grandes e centralizados e o site B, um menu na parte superior e do tipo scroll. A tarefa a ser realizada é encontrar um projeto específico dentro dos portifólios. Para cada usuário que realiza o teste é registrado o tempo que foi necessário para realizar tal tarefa. Ao final da coleta de dados, buscamos concluir qual a melhor página baseando-se na análise das medias populacionais do tempo da tarefa.**\n"
   ]
  },
  {
   "cell_type": "code",
   "execution_count": 17,
   "metadata": {
    "collapsed": false
   },
   "outputs": [],
   "source": [
    "import pandas as pd\n",
    "import json\n",
    "import itertools\n",
    "import matplotlib.pyplot as plt\n",
    "import math\n",
    "from scipy import stats\n",
    "import numpy as np"
   ]
  },
  {
   "cell_type": "markdown",
   "metadata": {},
   "source": [
    "# Técnica Inferencial\n",
    "\n",
    "A técnica inferencial a ser usada neste projeto será teste de hipóteses."
   ]
  },
  {
   "cell_type": "code",
   "execution_count": 18,
   "metadata": {
    "collapsed": false
   },
   "outputs": [],
   "source": [
    "dados = pd.read_csv(\"dados_preparados.csv\", sep=\",\")"
   ]
  },
  {
   "cell_type": "code",
   "execution_count": 19,
   "metadata": {
    "collapsed": false,
    "scrolled": true
   },
   "outputs": [
    {
     "data": {
      "text/html": [
       "<div>\n",
       "<table border=\"1\" class=\"dataframe\">\n",
       "  <thead>\n",
       "    <tr style=\"text-align: right;\">\n",
       "      <th></th>\n",
       "      <th>Unnamed: 0</th>\n",
       "      <th>delta_t</th>\n",
       "      <th>user_id</th>\n",
       "      <th>versao</th>\n",
       "    </tr>\n",
       "  </thead>\n",
       "  <tbody>\n",
       "    <tr>\n",
       "      <th>0</th>\n",
       "      <td>0</td>\n",
       "      <td>59.713</td>\n",
       "      <td>285365760</td>\n",
       "      <td>B</td>\n",
       "    </tr>\n",
       "    <tr>\n",
       "      <th>1</th>\n",
       "      <td>1</td>\n",
       "      <td>41.444</td>\n",
       "      <td>3789181448</td>\n",
       "      <td>A</td>\n",
       "    </tr>\n",
       "    <tr>\n",
       "      <th>2</th>\n",
       "      <td>2</td>\n",
       "      <td>18.755</td>\n",
       "      <td>528519713</td>\n",
       "      <td>A</td>\n",
       "    </tr>\n",
       "    <tr>\n",
       "      <th>3</th>\n",
       "      <td>3</td>\n",
       "      <td>24.113</td>\n",
       "      <td>2830537766</td>\n",
       "      <td>A</td>\n",
       "    </tr>\n",
       "    <tr>\n",
       "      <th>4</th>\n",
       "      <td>4</td>\n",
       "      <td>26.782</td>\n",
       "      <td>2409261628</td>\n",
       "      <td>B</td>\n",
       "    </tr>\n",
       "  </tbody>\n",
       "</table>\n",
       "</div>"
      ],
      "text/plain": [
       "   Unnamed: 0  delta_t     user_id versao\n",
       "0           0   59.713   285365760      B\n",
       "1           1   41.444  3789181448      A\n",
       "2           2   18.755   528519713      A\n",
       "3           3   24.113  2830537766      A\n",
       "4           4   26.782  2409261628      B"
      ]
     },
     "execution_count": 19,
     "metadata": {},
     "output_type": "execute_result"
    }
   ],
   "source": [
    "dados.head()"
   ]
  },
  {
   "cell_type": "markdown",
   "metadata": {},
   "source": [
    "## Obtendo medidas resumo das Amostras"
   ]
  },
  {
   "cell_type": "code",
   "execution_count": 20,
   "metadata": {
    "collapsed": false
   },
   "outputs": [
    {
     "name": "stdout",
     "output_type": "stream",
     "text": [
      "N˚ A: 29\n",
      "N˚ B: 28\n",
      "\n",
      "Tempo total A: 1726.261\n",
      "Tempo total B: 1597.781\n",
      "\n",
      "Média A: 59.5262413793\n",
      "Média B: 57.0636071429\n"
     ]
    }
   ],
   "source": [
    "na=0\n",
    "tempoa=0\n",
    "\n",
    "nb=0\n",
    "tempob=0\n",
    "\n",
    "\n",
    "for i in range(len(dados)):\n",
    "    versao = dados.iloc[i]['versao']\n",
    "    if versao == \"A\":\n",
    "        na+=1\n",
    "        tempoa+=dados.iloc[i]['delta_t']\n",
    "    elif versao == \"B\":\n",
    "        nb+=1\n",
    "        tempob+=dados.iloc[i]['delta_t']\n",
    "else: \n",
    "    pass\n",
    "    \n",
    "media_a = tempoa/na\n",
    "media_b = tempob/nb\n",
    "\n",
    "\n",
    "print(\"N˚ A:\",na)\n",
    "print(\"N˚ B:\",nb)\n",
    "print()\n",
    "print(\"Tempo total A:\",tempoa)\n",
    "print(\"Tempo total B:\",tempob)\n",
    "print()\n",
    "print(\"Média A:\",media_a)\n",
    "print(\"Média B:\",media_b)"
   ]
  },
  {
   "cell_type": "code",
   "execution_count": 21,
   "metadata": {
    "collapsed": false
   },
   "outputs": [
    {
     "name": "stdout",
     "output_type": "stream",
     "text": [
      "Desvio Padrão de A: 47.7644612610927\n",
      "Desvio Padrão de B: 52.74187919639469\n"
     ]
    }
   ],
   "source": [
    "dpa=0\n",
    "dpb=0\n",
    "\n",
    "for i in range(len(dados)):\n",
    "    versao = dados.iloc[i]['versao']\n",
    "    if versao == \"A\":\n",
    "        dpa+=((dados.iloc[i]['delta_t']-media_a)**2)\n",
    "    elif versao == \"B\":\n",
    "        dpb+=((dados.iloc[i]['delta_t']-media_b)**2)\n",
    "else: \n",
    "    pass\n",
    "\n",
    "dpa = math.sqrt((dpa/na))\n",
    "dpb = math.sqrt((dpb/nb))\n",
    "\n",
    "print(\"Desvio Padrão de A:\",dpa)\n",
    "print(\"Desvio Padrão de B:\",dpb)"
   ]
  },
  {
   "cell_type": "markdown",
   "metadata": {
    "collapsed": true
   },
   "source": [
    "## Teste de hipótese para ver se as variâncias são iguais com nível de significância de 10%\n",
    "\n",
    "Antes de analisar as medias populacionais do tempo necessário para a realização da tarefa é necessário descobrir se os desvios padrões das amostras podem ser considerados iguais ou não. Dependendo do resultado deste teste, a estatística usada na análise das medias pode ser diferente."
   ]
  },
  {
   "cell_type": "markdown",
   "metadata": {},
   "source": [
    "### Hipóteses Iniciais:\n",
    "\n",
    "**Ho:** sigmaA = sigmaB\n",
    "\n",
    "**Ha:** sigmaA != sigmaB"
   ]
  },
  {
   "cell_type": "code",
   "execution_count": 22,
   "metadata": {
    "collapsed": false
   },
   "outputs": [
    {
     "name": "stdout",
     "output_type": "stream",
     "text": [
      "Nível de Significância: 10.0 %\n",
      "\n",
      "F Crítico Mínimo: 0.529261805012\n",
      "\n",
      "F Crítico Máximo: 1.89752281059\n",
      "\n"
     ]
    }
   ],
   "source": [
    "grau_de_liberdadeA = na - 1\n",
    "grau_de_liberdadeB = nb - 1\n",
    "\n",
    "nivel_significancia = 0.1\n",
    "print(\"Nível de Significância:\",nivel_significancia*100,\"%\")\n",
    "print()\n",
    "\n",
    "porcentagem_direita = nivel_significancia/2\n",
    "porcentagem_esquerda= 1 - porcentagem_direita\n",
    "\n",
    "valor_min_f = stats.f.ppf(porcentagem_direita,grau_de_liberdadeA,grau_de_liberdadeB)\n",
    "print(\"F Crítico Mínimo:\",valor_min_f)\n",
    "print()\n",
    "\n",
    "valor_max_f = stats.f.ppf(porcentagem_esquerda,grau_de_liberdadeA,grau_de_liberdadeB)\n",
    "print(\"F Crítico Máximo:\",valor_max_f)\n",
    "print()"
   ]
  },
  {
   "cell_type": "code",
   "execution_count": 23,
   "metadata": {
    "collapsed": false
   },
   "outputs": [
    {
     "name": "stdout",
     "output_type": "stream",
     "text": [
      "F observado: 1.219274334292867\n",
      "\n",
      "Para a distribuição F( 28 , 27 ) ao nível de significância de 10% o intervalo de confiança está contido em { 0.529261805012 , 1.89752281059 }.\n",
      "\n"
     ]
    }
   ],
   "source": [
    "f_obs=(dpb**2)/(dpa**2)\n",
    "print('F observado:',f_obs)\n",
    "print()\n",
    "\n",
    "if f_obs < valor_max_f and f_obs > valor_min_f:\n",
    "    print('Para a distribuição F(',grau_de_liberdadeA,',',grau_de_liberdadeB,') ao nível de significância de 10% o intervalo de confiança está contido em {',valor_min_f,',',valor_max_f,'}.')\n",
    "    print()\n",
    "    "
   ]
  },
  {
   "cell_type": "markdown",
   "metadata": {},
   "source": [
    "**O f observado encontra-se dentro do intervalo, portanto a Hipóteses Ho não pode ser rejeitada com uma confiança de 10%. Ou seja, pode-se afirmar que os desvios-padrões das amostras são iguais. Isso nos permite fazer a análise das medias populacionais estimando apenas um valor para o desvio-padrão populacional, deixando nossa análise mais precisa.**"
   ]
  },
  {
   "cell_type": "markdown",
   "metadata": {},
   "source": [
    "## Análise das medias populacionais.\n",
    "    \n",
    "Nesta etapa do projeto, testaremos se há, de fato uma página mais eficiente que a outra. Para isso faremos um teste de hipóteses onde a hipótese inicial é que as medias populacionais são iguais."
   ]
  },
  {
   "cell_type": "markdown",
   "metadata": {
    "collapsed": true
   },
   "source": [
    "### Hipóteses:\n",
    "\n",
    "**Ho:** miA = miB\n",
    "\n",
    "**Ha:** miA != miB"
   ]
  },
  {
   "cell_type": "code",
   "execution_count": 24,
   "metadata": {
    "collapsed": false
   },
   "outputs": [
    {
     "name": "stdout",
     "output_type": "stream",
     "text": [
      "Grau de liberdade: 55\n",
      "\n",
      "Nivel de significância: 10.0 %\n",
      "\n",
      "T Crítico Mínimo: -1.2971342998\n",
      "T Crítico Máximo: 1.2971342998\n",
      "\n",
      "T observado: 0.0138826128444\n"
     ]
    }
   ],
   "source": [
    "grau_liberdade_t = na + nb - 2\n",
    "print(\"Grau de liberdade:\",grau_liberdade_t)\n",
    "print()\n",
    "\n",
    "nivel_significancia = 0.1\n",
    "print(\"Nivel de significância:\",nivel_significancia*100,\"%\")\n",
    "print()\n",
    "\n",
    "valor_min_t =  stats.t.ppf(nivel_significancia,grau_liberdade_t)\n",
    "valor_max_t = -stats.t.ppf(nivel_significancia,grau_liberdade_t)\n",
    "print(\"T Crítico Mínimo:\",valor_min_t)\n",
    "print(\"T Crítico Máximo:\",valor_max_t)\n",
    "print()\n",
    "\n",
    "s_quadrado = (((na-1) * (dpa**2)) +((nb-1) * (dpb**2)))/(na+nb-2)\n",
    "\n",
    "t_obs = (media_a-media_b)/((s_quadrado/na)+(s_quadrado/nb))\n",
    "print(\"T observado:\",t_obs)"
   ]
  },
  {
   "cell_type": "code",
   "execution_count": 25,
   "metadata": {
    "collapsed": false
   },
   "outputs": [
    {
     "name": "stdout",
     "output_type": "stream",
     "text": [
      "O t observado encontra-se dentro do intervalo, portanto a Hipóteses Ho não pode ser rejeitada com uma confiança de 10%\n"
     ]
    }
   ],
   "source": [
    "if t_obs > valor_min_t and f_obs < valor_max_t:\n",
    "    print('O t observado encontra-se dentro do intervalo, portanto a Hipóteses Ho não pode ser rejeitada com uma confiança de 10%')"
   ]
  },
  {
   "cell_type": "markdown",
   "metadata": {},
   "source": [
    "## Conclusão\n",
    "\n",
    "** Após o teste de hipótese feito com as medias populacionais das páginas A e B, pode-se afirmar que não há diferença o bastante entre as interfaces testadas que tornem uma delas de fato mais eficiente que a outra. Caso quisessemos melhorar a usabilidade de nosso portifólio, seria necessário fazer novas alterações na página 'desafiante' e realizar o teste A/B novamente, em busca de uma interface que superasse de fato a antiga. **"
   ]
  }
 ],
 "metadata": {
  "kernelspec": {
   "display_name": "Python 3",
   "language": "python",
   "name": "python3"
  },
  "language_info": {
   "codemirror_mode": {
    "name": "ipython",
    "version": 3
   },
   "file_extension": ".py",
   "mimetype": "text/x-python",
   "name": "python",
   "nbconvert_exporter": "python",
   "pygments_lexer": "ipython3",
   "version": "3.5.1"
  }
 },
 "nbformat": 4,
 "nbformat_minor": 0
}
